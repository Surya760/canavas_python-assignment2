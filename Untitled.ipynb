{
 "cells": [
  {
   "cell_type": "code",
   "execution_count": 2,
   "metadata": {},
   "outputs": [
    {
     "name": "stdout",
     "output_type": "stream",
     "text": [
      "1\n",
      "4\n",
      "9\n",
      "16\n"
     ]
    }
   ],
   "source": [
    "\n",
    "'''Write a Python Program to implement your own myreduce() function which works exactly like\n",
    "Python's built-in function reduce()'''\n",
    "\n",
    "\n",
    "\n",
    "def myreduce(fun,l):\n",
    "    for i in l:\n",
    "        print(fun(i))\n",
    "def s(x):\n",
    "    return x**2\n",
    "\n",
    "a=[1,2,3,4]\n",
    "myreduce(s,a)"
   ]
  },
  {
   "cell_type": "code",
   "execution_count": 3,
   "metadata": {},
   "outputs": [
    {
     "data": {
      "text/plain": [
       "[2, 4, 8, 10]"
      ]
     },
     "execution_count": 3,
     "metadata": {},
     "output_type": "execute_result"
    }
   ],
   "source": [
    "'''Write a Python program to implement your own myfilter() function which works exactly like\n",
    "Python's built-in function filter()'''\n",
    "\n",
    "\n",
    "\n",
    "l = [1, 2, 4, 5, 7, 8, 10, 11]\n",
    "\n",
    "def f(in_num):\n",
    "\n",
    "    if(in_num % 2) == 0:\n",
    "        return True\n",
    "    else:\n",
    "        return False\n",
    "    \n",
    "def myfilter(fun,l):\n",
    "    o=[]\n",
    "    for i in l:\n",
    "        c=fun(i)\n",
    "        if(c==True):\n",
    "            o.append(i)\n",
    "    return o\n",
    "\n",
    "\n",
    "myfilter(f,l)"
   ]
  },
  {
   "cell_type": "code",
   "execution_count": 15,
   "metadata": {},
   "outputs": [
    {
     "name": "stdout",
     "output_type": "stream",
     "text": [
      "['A', 'C', 'A', 'D', 'G', 'I', 'L', 'D']\n",
      "['x', 'xx', 'xxx', 'xxxx', 'y', 'yy', 'yyy', 'yyyy', 'z', 'zz', 'zzz', 'zzzz']\n",
      "['x', 'y', 'z', 'xx', 'yy', 'zz', 'xxx', 'yyy', 'zzz', 'xxxx', 'yyyy', 'zzzz']\n",
      "[[2], [3], [4], [3], [4], [5], [4], [5], [6]]\n",
      "[[2, 3, 4], [3, 4, 5], [4, 5, 6], [5, 6, 7]]\n",
      "[(1, 1), (2, 1), (3, 1), (1, 2), (2, 2), (3, 2), (1, 3), (2, 3), (3, 3)]\n"
     ]
    }
   ],
   "source": [
    "'''Implement List comprehensions to produce the following lists.\n",
    "Write List comprehensions to produce the following Lists\n",
    "['A', 'C', 'A', 'D', 'G', 'I', ’L’, ‘ D’]\n",
    "['x', 'xx', 'xxx', 'xxxx', 'y', 'yy', 'yyy', 'yyyy', 'z', 'zz', 'zzz', 'zzzz']\n",
    "['x', 'y', 'z', 'xx', 'yy', 'zz', 'xx', 'yy', 'zz', 'xxxx', 'yyyy', 'zzzz']\n",
    "[[2], [3], [4], [3], [4], [5], [4], [5], [6]]\n",
    "[[2, 3, 4, 5], [3, 4, 5, 6], [4, 5, 6, 7], [5, 6, 7, 8]]\n",
    "[(1, 1), (2, 1), (3, 1), (1, 2), (2, 2), (3, 2), (1, 3), (2, 3), (3, 3)]'''\n",
    "\n",
    "\n",
    "w='ACADGILD'\n",
    "l=[i for i in w ]\n",
    "print(l)\n",
    "\n",
    "a = ['x','y','z']\n",
    "z = [ i*num for i in a for num in range(1,5)  ]\n",
    "y = [ i*num for num in range(1,5) for i in a  ]\n",
    "print(str(z))\n",
    "print(str(y))\n",
    "\n",
    "b = [2,3,4]\n",
    "c = [1,2,3]\n",
    "r = [ [i+num] for i in b for num in range(0,3)]\n",
    "p = [ [i+num for i in b] for num in range(0,4) ]\n",
    "d = [ (b,a) for a in c for b in c]\n",
    "\n",
    "print(str(r))\n",
    "print(str(p))\n",
    "print(str(d))\n",
    "\n",
    "\n",
    "\n",
    "\n"
   ]
  },
  {
   "cell_type": "code",
   "execution_count": 18,
   "metadata": {},
   "outputs": [
    {
     "name": "stdout",
     "output_type": "stream",
     "text": [
      "abcd\n"
     ]
    }
   ],
   "source": [
    "'''Implement a function longestWord() that takes a list of words and returns the longest one.'''\n",
    "\n",
    "l=['ab','abc','abcd']\n",
    "def longestWord(l):\n",
    "    return max(l)\n",
    "print(longestWord(l))"
   ]
  },
  {
   "cell_type": "code",
   "execution_count": 4,
   "metadata": {},
   "outputs": [
    {
     "name": "stdout",
     "output_type": "stream",
     "text": [
      "Please enter the first side of a triangle: 5\n",
      "Please enter the second side of a triangle: 3\n",
      "Please enter the third side of a triangle: 6\n",
      "7.483314773547883\n"
     ]
    }
   ],
   "source": [
    "'''Write a Python Program(with class concepts) to find the area of the triangle using the below\n",
    "formula.\n",
    "area = (s*(s-a)*(s-b)*(s-c)) ** 0.5\n",
    "Function to take the length of the sides of triangle from user should be defined in the parent\n",
    "class and function to calculate the area should be defined in subclass.\n",
    "'''\n",
    "a = int(input('Please enter the first side of a triangle: '))\n",
    "b = int(input('Please enter the second side of a triangle: '))\n",
    "c = int(input('Please enter the third side of a triangle: '))\n",
    "\n",
    "class triangle():\n",
    "    def __init__(self,a,b,c):\n",
    "        self.a = a\n",
    "        self.b = b\n",
    "        self.c = c\n",
    "class calc(triangle):\n",
    "    def __init__(self,a,b,c):\n",
    "        super().__init__(a,b,c)\n",
    "    def Area():\n",
    "        s=(a + b + c)/2\n",
    "        d=(s*(s-a)*(s-b)*(s-c))**0.5\n",
    "        return d\n",
    "\n",
    "    \n",
    "calc(a, b, c)\n",
    "\n",
    "\n",
    "print(calc.Area())\n"
   ]
  },
  {
   "cell_type": "code",
   "execution_count": 3,
   "metadata": {},
   "outputs": [
    {
     "name": "stdout",
     "output_type": "stream",
     "text": [
      "enter the length:2\n"
     ]
    },
    {
     "data": {
      "text/plain": [
       "['abc', 'abcd', 'abcde']"
      ]
     },
     "execution_count": 3,
     "metadata": {},
     "output_type": "execute_result"
    }
   ],
   "source": [
    "'''Write a function filter_long_words() that takes a list of words and an integer n and returns the list\n",
    "of words that are longer than n.'''\n",
    "\n",
    "\n",
    "n=int(input(\"enter the length:\"))\n",
    "l=[\"abc\",\"abcd\",\"abcde\"]\n",
    "def filter_long_words(l,n):\n",
    "    r=[i for i in l if len(i)>n]\n",
    "    return r\n",
    "filter_long_words(l,n)\n"
   ]
  },
  {
   "cell_type": "code",
   "execution_count": 2,
   "metadata": {},
   "outputs": [
    {
     "name": "stdout",
     "output_type": "stream",
     "text": [
      "[3, 4, 5]\n"
     ]
    }
   ],
   "source": [
    "'''Write a Python program using function concept that maps list of words into a list of integers\n",
    "representing the lengths of the corresponding words.\n",
    "Hint: If a list [ ab,cde,erty] is passed on to the python function output should come as [2,3,4]\n",
    "Here 2,3 and 4 are the lengths of the words in the list.'''\n",
    "\n",
    "\n",
    "def map_to_lengths_lists(words):\n",
    "    return [len(word) for word in words]\n",
    "\n",
    "words = [\"abc\",\"abcd\",\"abcde\"]\n",
    "print(map_to_lengths_lists(words))"
   ]
  },
  {
   "cell_type": "code",
   "execution_count": 1,
   "metadata": {},
   "outputs": [
    {
     "name": "stdout",
     "output_type": "stream",
     "text": [
      "enter the character to test for vowel:a\n",
      "True\n"
     ]
    }
   ],
   "source": [
    "'''Write a Python function which takes a character (i.e. a string of length 1) and returns True if it is\n",
    "a vowel, False otherwise.\n",
    "'''\n",
    "vowel=['a','e','i','o','u']\n",
    "a=input(\"enter the character to test for vowel:\")\n",
    "def vowels(a):\n",
    "    if(a in vowel):\n",
    "        return True\n",
    "    else:\n",
    "        return False\n",
    "    \n",
    "print(vowels(a))"
   ]
  },
  {
   "cell_type": "code",
   "execution_count": null,
   "metadata": {},
   "outputs": [],
   "source": []
  }
 ],
 "metadata": {
  "kernelspec": {
   "display_name": "Python 3",
   "language": "python",
   "name": "python3"
  },
  "language_info": {
   "codemirror_mode": {
    "name": "ipython",
    "version": 3
   },
   "file_extension": ".py",
   "mimetype": "text/x-python",
   "name": "python",
   "nbconvert_exporter": "python",
   "pygments_lexer": "ipython3",
   "version": "3.7.4"
  }
 },
 "nbformat": 4,
 "nbformat_minor": 2
}
